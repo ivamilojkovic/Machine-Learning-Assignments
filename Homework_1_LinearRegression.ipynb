{
 "cells": [
  {
   "cell_type": "markdown",
   "metadata": {},
   "source": [
    "# <CENTER> DOMACI ZADATAK 1 </CENTER> "
   ]
  },
  {
   "cell_type": "markdown",
   "metadata": {},
   "source": [
    "## Učitavanje i podela podataka "
   ]
  },
  {
   "cell_type": "markdown",
   "metadata": {},
   "source": [
    "Podaci se nalaze u .csv dokumentu i sadrze 341 merenja, pet prediktora i ciljnu promenljivu. Prvi korak jeste izdvajanje kolona predikotora kao $X$ matricu i kolonu ciljne promenljive kao $y$ kolona vektor. Zatim se ubacuje kolona jedinica, a potom se podaci dele na trenirajući i testirajući skup, a trenirajuci skup na novi trenirajuci i validacioni skup. Trenirajuci skup ce sadrzati 20% ukuponog broja merenja, dok ce od preostalih 80% merenja, trenirajuci skup imati 70% merenja. "
   ]
  },
  {
   "cell_type": "code",
   "execution_count": 1,
   "metadata": {},
   "outputs": [],
   "source": [
    "import numpy as np\n",
    "from matplotlib import pyplot as plt\n",
    "import pandas as pd"
   ]
  },
  {
   "cell_type": "code",
   "execution_count": 2,
   "metadata": {},
   "outputs": [
    {
     "data": {
      "text/html": [
       "<div>\n",
       "<style scoped>\n",
       "    .dataframe tbody tr th:only-of-type {\n",
       "        vertical-align: middle;\n",
       "    }\n",
       "\n",
       "    .dataframe tbody tr th {\n",
       "        vertical-align: top;\n",
       "    }\n",
       "\n",
       "    .dataframe thead th {\n",
       "        text-align: right;\n",
       "    }\n",
       "</style>\n",
       "<table border=\"1\" class=\"dataframe\">\n",
       "  <thead>\n",
       "    <tr style=\"text-align: right;\">\n",
       "      <th></th>\n",
       "      <th>0</th>\n",
       "      <th>1</th>\n",
       "      <th>2</th>\n",
       "      <th>3</th>\n",
       "      <th>4</th>\n",
       "      <th>5</th>\n",
       "    </tr>\n",
       "  </thead>\n",
       "  <tbody>\n",
       "    <tr>\n",
       "      <th>0</th>\n",
       "      <td>0.036907</td>\n",
       "      <td>-0.023584</td>\n",
       "      <td>-0.039493</td>\n",
       "      <td>-0.025952</td>\n",
       "      <td>-0.038357</td>\n",
       "      <td>90.0</td>\n",
       "    </tr>\n",
       "    <tr>\n",
       "      <th>1</th>\n",
       "      <td>-0.008362</td>\n",
       "      <td>0.008063</td>\n",
       "      <td>-0.076395</td>\n",
       "      <td>-0.080237</td>\n",
       "      <td>-0.017646</td>\n",
       "      <td>39.0</td>\n",
       "    </tr>\n",
       "    <tr>\n",
       "      <th>2</th>\n",
       "      <td>-0.012673</td>\n",
       "      <td>-0.000193</td>\n",
       "      <td>-0.002592</td>\n",
       "      <td>-0.027129</td>\n",
       "      <td>-0.050783</td>\n",
       "      <td>160.0</td>\n",
       "    </tr>\n",
       "    <tr>\n",
       "      <th>3</th>\n",
       "      <td>-0.018062</td>\n",
       "      <td>-0.019456</td>\n",
       "      <td>0.034309</td>\n",
       "      <td>0.067317</td>\n",
       "      <td>-0.017646</td>\n",
       "      <td>101.0</td>\n",
       "    </tr>\n",
       "    <tr>\n",
       "      <th>4</th>\n",
       "      <td>0.081097</td>\n",
       "      <td>0.043837</td>\n",
       "      <td>0.071210</td>\n",
       "      <td>0.032433</td>\n",
       "      <td>0.048628</td>\n",
       "      <td>180.0</td>\n",
       "    </tr>\n",
       "  </tbody>\n",
       "</table>\n",
       "</div>"
      ],
      "text/plain": [
       "          0         1         2         3         4      5\n",
       "0  0.036907 -0.023584 -0.039493 -0.025952 -0.038357   90.0\n",
       "1 -0.008362  0.008063 -0.076395 -0.080237 -0.017646   39.0\n",
       "2 -0.012673 -0.000193 -0.002592 -0.027129 -0.050783  160.0\n",
       "3 -0.018062 -0.019456  0.034309  0.067317 -0.017646  101.0\n",
       "4  0.081097  0.043837  0.071210  0.032433  0.048628  180.0"
      ]
     },
     "execution_count": 2,
     "metadata": {},
     "output_type": "execute_result"
    }
   ],
   "source": [
    "# Ucitavanje skupa podataka\n",
    "data = pd.read_csv('data.csv',header = None)\n",
    "\n",
    "# Podela na X i y(ciljna promenjljiva)\n",
    "X = data.iloc[:,0:-1].to_numpy()\n",
    "y = data.iloc[:,-1].to_numpy()    \n",
    "\n",
    "data.head()"
   ]
  },
  {
   "cell_type": "code",
   "execution_count": 3,
   "metadata": {},
   "outputs": [
    {
     "data": {
      "text/html": [
       "<div>\n",
       "<style scoped>\n",
       "    .dataframe tbody tr th:only-of-type {\n",
       "        vertical-align: middle;\n",
       "    }\n",
       "\n",
       "    .dataframe tbody tr th {\n",
       "        vertical-align: top;\n",
       "    }\n",
       "\n",
       "    .dataframe thead th {\n",
       "        text-align: right;\n",
       "    }\n",
       "</style>\n",
       "<table border=\"1\" class=\"dataframe\">\n",
       "  <thead>\n",
       "    <tr style=\"text-align: right;\">\n",
       "      <th></th>\n",
       "      <th>0</th>\n",
       "      <th>1</th>\n",
       "      <th>2</th>\n",
       "      <th>3</th>\n",
       "      <th>4</th>\n",
       "      <th>5</th>\n",
       "    </tr>\n",
       "  </thead>\n",
       "  <tbody>\n",
       "    <tr>\n",
       "      <th>0</th>\n",
       "      <td>1.0</td>\n",
       "      <td>0.036907</td>\n",
       "      <td>-0.023584</td>\n",
       "      <td>-0.039493</td>\n",
       "      <td>-0.025952</td>\n",
       "      <td>-0.038357</td>\n",
       "    </tr>\n",
       "    <tr>\n",
       "      <th>1</th>\n",
       "      <td>1.0</td>\n",
       "      <td>-0.008362</td>\n",
       "      <td>0.008063</td>\n",
       "      <td>-0.076395</td>\n",
       "      <td>-0.080237</td>\n",
       "      <td>-0.017646</td>\n",
       "    </tr>\n",
       "    <tr>\n",
       "      <th>2</th>\n",
       "      <td>1.0</td>\n",
       "      <td>-0.012673</td>\n",
       "      <td>-0.000193</td>\n",
       "      <td>-0.002592</td>\n",
       "      <td>-0.027129</td>\n",
       "      <td>-0.050783</td>\n",
       "    </tr>\n",
       "    <tr>\n",
       "      <th>3</th>\n",
       "      <td>1.0</td>\n",
       "      <td>-0.018062</td>\n",
       "      <td>-0.019456</td>\n",
       "      <td>0.034309</td>\n",
       "      <td>0.067317</td>\n",
       "      <td>-0.017646</td>\n",
       "    </tr>\n",
       "    <tr>\n",
       "      <th>4</th>\n",
       "      <td>1.0</td>\n",
       "      <td>0.081097</td>\n",
       "      <td>0.043837</td>\n",
       "      <td>0.071210</td>\n",
       "      <td>0.032433</td>\n",
       "      <td>0.048628</td>\n",
       "    </tr>\n",
       "  </tbody>\n",
       "</table>\n",
       "</div>"
      ],
      "text/plain": [
       "     0         1         2         3         4         5\n",
       "0  1.0  0.036907 -0.023584 -0.039493 -0.025952 -0.038357\n",
       "1  1.0 -0.008362  0.008063 -0.076395 -0.080237 -0.017646\n",
       "2  1.0 -0.012673 -0.000193 -0.002592 -0.027129 -0.050783\n",
       "3  1.0 -0.018062 -0.019456  0.034309  0.067317 -0.017646\n",
       "4  1.0  0.081097  0.043837  0.071210  0.032433  0.048628"
      ]
     },
     "execution_count": 3,
     "metadata": {},
     "output_type": "execute_result"
    }
   ],
   "source": [
    "# Dodavanje kolone jedinica matrici X\n",
    "m, n = X.shape\n",
    "X = np.concatenate((np.ones((m,1)), X), axis=1)\n",
    "\n",
    "pd.DataFrame(X).head()"
   ]
  },
  {
   "cell_type": "markdown",
   "metadata": {},
   "source": [
    "Funkcija $SplitData(X, y, p)$ uvezena je iz skripte $ LinearRegression$. Ulazni parametri su:\n",
    "* X - matrica koja sadrzi sva merenja za pet prediktora i pocetnu kolonu jedinica\n",
    "* y - kolona svih merenja za ciljnu promenljivu\n",
    "* p - procenat merenja koji ce test skup imati\n",
    "Ova funkcija prvo permutuje merenja, zatim prvih ptest procenata od ukupnog broja merenja uzima za test skup, a preostala merenja uzima kao trenirajuci skup. Povratne vrednosti su trenirajuci i testirajuci skup za X i y ulazne promenljive u sledecem redosledu:\n",
    "### <center>$X$<sub>$train$</sub>$, X$<sub>$test$</sub>$, y$<sub>$train$</sub>$, y$<sub>$test$</sub>$ = SplitData(X, y, p)$ </center>\n"
   ]
  },
  {
   "cell_type": "code",
   "execution_count": 4,
   "metadata": {},
   "outputs": [
    {
     "name": "stdout",
     "output_type": "stream",
     "text": [
      "Broj podataka u trenirajucem skupu:  191\n",
      "Broj podataka u testirajucem skupu:  68\n",
      "Broj podataka u validacionom skupu:  81\n"
     ]
    }
   ],
   "source": [
    "from LinearRegression import split_data as SplitData\n",
    "\n",
    "# Podela na trenirajuci i testirajuci skup, pri cemu je ptest procenat podataka koje zauzima test skup\n",
    "X_train, X_test, y_train, y_test = SplitData(X, y, p = 20)\n",
    "\n",
    "# Jos jedna podela trenirajuceg na novi trenirajuci i validacioni skup\n",
    "X_train, X_val, y_train, y_val = SplitData(X_train, y_train, p = 30)\n",
    "\n",
    "print('Broj podataka u trenirajucem skupu: ', X_train.shape[0])\n",
    "print('Broj podataka u testirajucem skupu: ', X_test.shape[0])\n",
    "print('Broj podataka u validacionom skupu: ', X_val.shape[0])"
   ]
  },
  {
   "cell_type": "markdown",
   "metadata": {},
   "source": [
    "## Linearna Regresija"
   ]
  },
  {
   "cell_type": "markdown",
   "metadata": {},
   "source": [
    "Trazenje minimuma kriterijumske funkcije $J(\\theta)$ tako sto se gradijent po svim prediktorima izjednaci sa nulom. Odatle se dobija optimalan vektor $\\theta$<sub>$n x 1$</sub>  sa vrednostima $\\theta$<sub>$0$</sub>$,...,$$\\theta$<sub>$n$</sub>, pri cemu je $n$ broj obelezja. Optimalno resenje linearne regresije se moze pronaci analiticki:\n",
    "### <center> $\\theta$ $= (X$<sub>$train$</sub><sup>$T$</sup>$X$<sub>$train$</sub>$)$<sup>$-1$</sup>$X$<sub>$train$</sub><sup>$T$</sup>$y$<sub>$train$</sub> </center>\n",
    "Funkcija $fit(X$<sub>$train$</sub>$, y$<sub>$train$</sub>$)$ uvezena iz skripte racuna ovo optimalno $\\theta$ na analiticki nacin i cuva ove vrednosti u vidu vektora $\\theta$<sub>$n x 1$</sub> kao novi argument klase. Metoda klase $predict(X$<sub>$test$</sub>$)$ uzima argument $\\theta$, izracunat u prethodnom koraku, i dobija se predikcija za merenja iz test skupa. Validacioni skup se ne koristi kod obicne linearne regersije jer ne postoji validacije.\n",
    "### <center> $\\hat{y}$ = $X$<sub>$test$</sub> $\\theta$ </center>"
   ]
  },
  {
   "cell_type": "code",
   "execution_count": 5,
   "metadata": {},
   "outputs": [
    {
     "name": "stdout",
     "output_type": "stream",
     "text": [
      "Optimalno teta je: [152.71455099 631.55340758 -85.52641011  85.25469494 590.07135231\n",
      " 133.1403286 ]\n"
     ]
    }
   ],
   "source": [
    "from LinearRegression import Linear_Regression\n",
    "\n",
    "# Pravi se objekat klase Linear_Regression, racunaju vrednosti teta i radi predikcija nad test skupom\n",
    "model = Linear_Regression()\n",
    "model.fit(X_train, y_train)\n",
    "pred = model.predict(X_test)\n",
    "\n",
    "# Optimalno teta \n",
    "opt_theta = model.get_theta()\n",
    "print('Optimalno teta je:', opt_theta)"
   ]
  },
  {
   "cell_type": "markdown",
   "metadata": {},
   "source": [
    "## Polinomijalna Linearna Regresija"
   ]
  },
  {
   "cell_type": "markdown",
   "metadata": {},
   "source": [
    "Kod polinomijalne regresije postoji razlika samo kod hipoteze i broja prediktora. Broj prediktora se vestacki povecava tako sto se kombinuju postojeci prediktori, kojih u ovom slucaju ima pet. Ukoliko je stepen polinomijalne funkcije dva, broj prediktora ce vec tad biti dvadeset.\n",
    "Neka su postojeci pet prediktora oznaceni kao $x$<sub>$1$</sub>$, x$<sub>$2$</sub>$,...,$ $x$<sub>$5$</sub>. Tada su novi prediktori kada je stepen polinomijalne funkcije dva:   \n",
    "#### <center>$x$<sub>$1$</sub><sup>$2$</sup>, $x$<sub>$1$</sub>$x$<sub>$2$</sub>$, ... ,x$<sub>$1$</sub>$x$<sub>$5$</sub>, $x$<sub>$2$</sub><sup>$2$</sup>, $x$<sub>$2$</sub>$x$<sub>$3$</sub>$, ... ,x$<sub>$2$</sub>$x$<sub>$5$</sub>, $x$<sub>$3$</sub><sup>$2$</sup>, $x$<sub>$3$</sub>$x$<sub>$4$</sub>, $x$<sub>$3$</sub>$x$<sub>$5$</sub>, $x$<sub>$4$</sub>$x$<sub>$5$</sub>, $x$<sub>$5$</sub><sup>$2$</sup> </center> \n",
    "Kada se napravi matrica sa dodatnim kolonama tj. novim prediktorima, mogu da se ponove isti koraci kao kod obicne linearne regresije, s tim sto se pravi novi objekat klase $Polynomial$ izvedene iz $LinearRegression$ klase."
   ]
  },
  {
   "cell_type": "code",
   "execution_count": 6,
   "metadata": {},
   "outputs": [
    {
     "name": "stdout",
     "output_type": "stream",
     "text": [
      "Optimalno teta je: [  153.61573103   544.95640986   -88.30013767    63.21780164\n",
      "   688.78318945    82.59050149  -175.07727218 -4727.48317233\n",
      "  -971.02560354  3342.64728565  3581.28713112 -1960.58278984\n",
      "  -116.127056    6845.00137857  2340.86819362 -1215.53859712\n",
      "   269.89742538  3209.23590207 -3489.68452643 -4734.59454731\n",
      "  1484.49194414]\n"
     ]
    },
    {
     "data": {
      "text/html": [
       "<div>\n",
       "<style scoped>\n",
       "    .dataframe tbody tr th:only-of-type {\n",
       "        vertical-align: middle;\n",
       "    }\n",
       "\n",
       "    .dataframe tbody tr th {\n",
       "        vertical-align: top;\n",
       "    }\n",
       "\n",
       "    .dataframe thead th {\n",
       "        text-align: right;\n",
       "    }\n",
       "</style>\n",
       "<table border=\"1\" class=\"dataframe\">\n",
       "  <thead>\n",
       "    <tr style=\"text-align: right;\">\n",
       "      <th></th>\n",
       "      <th>0</th>\n",
       "      <th>1</th>\n",
       "      <th>2</th>\n",
       "      <th>3</th>\n",
       "      <th>4</th>\n",
       "      <th>5</th>\n",
       "      <th>6</th>\n",
       "      <th>7</th>\n",
       "      <th>8</th>\n",
       "      <th>9</th>\n",
       "      <th>...</th>\n",
       "      <th>11</th>\n",
       "      <th>12</th>\n",
       "      <th>13</th>\n",
       "      <th>14</th>\n",
       "      <th>15</th>\n",
       "      <th>16</th>\n",
       "      <th>17</th>\n",
       "      <th>18</th>\n",
       "      <th>19</th>\n",
       "      <th>20</th>\n",
       "    </tr>\n",
       "  </thead>\n",
       "  <tbody>\n",
       "    <tr>\n",
       "      <th>0</th>\n",
       "      <td>1.0</td>\n",
       "      <td>0.004572</td>\n",
       "      <td>-0.011201</td>\n",
       "      <td>0.034309</td>\n",
       "      <td>0.016305</td>\n",
       "      <td>-0.001078</td>\n",
       "      <td>0.000021</td>\n",
       "      <td>-0.000051</td>\n",
       "      <td>0.000157</td>\n",
       "      <td>0.000075</td>\n",
       "      <td>...</td>\n",
       "      <td>1.254541e-04</td>\n",
       "      <td>-0.000384</td>\n",
       "      <td>-0.000183</td>\n",
       "      <td>0.000012</td>\n",
       "      <td>0.001177</td>\n",
       "      <td>0.000559</td>\n",
       "      <td>-0.000037</td>\n",
       "      <td>0.000266</td>\n",
       "      <td>-0.000018</td>\n",
       "      <td>0.000001</td>\n",
       "    </tr>\n",
       "    <tr>\n",
       "      <th>1</th>\n",
       "      <td>1.0</td>\n",
       "      <td>-0.065486</td>\n",
       "      <td>-0.007073</td>\n",
       "      <td>-0.039493</td>\n",
       "      <td>-0.003304</td>\n",
       "      <td>0.007207</td>\n",
       "      <td>0.004288</td>\n",
       "      <td>0.000463</td>\n",
       "      <td>0.002586</td>\n",
       "      <td>0.000216</td>\n",
       "      <td>...</td>\n",
       "      <td>5.002409e-05</td>\n",
       "      <td>0.000279</td>\n",
       "      <td>0.000023</td>\n",
       "      <td>-0.000051</td>\n",
       "      <td>0.001560</td>\n",
       "      <td>0.000130</td>\n",
       "      <td>-0.000285</td>\n",
       "      <td>0.000011</td>\n",
       "      <td>-0.000024</td>\n",
       "      <td>0.000052</td>\n",
       "    </tr>\n",
       "    <tr>\n",
       "      <th>2</th>\n",
       "      <td>1.0</td>\n",
       "      <td>-0.030996</td>\n",
       "      <td>0.008063</td>\n",
       "      <td>-0.002592</td>\n",
       "      <td>0.009436</td>\n",
       "      <td>0.011349</td>\n",
       "      <td>0.000961</td>\n",
       "      <td>-0.000250</td>\n",
       "      <td>0.000080</td>\n",
       "      <td>-0.000292</td>\n",
       "      <td>...</td>\n",
       "      <td>6.500730e-05</td>\n",
       "      <td>-0.000021</td>\n",
       "      <td>0.000076</td>\n",
       "      <td>0.000092</td>\n",
       "      <td>0.000007</td>\n",
       "      <td>-0.000024</td>\n",
       "      <td>-0.000029</td>\n",
       "      <td>0.000089</td>\n",
       "      <td>0.000107</td>\n",
       "      <td>0.000129</td>\n",
       "    </tr>\n",
       "    <tr>\n",
       "      <th>3</th>\n",
       "      <td>1.0</td>\n",
       "      <td>-0.029918</td>\n",
       "      <td>-0.000193</td>\n",
       "      <td>-0.050564</td>\n",
       "      <td>-0.038459</td>\n",
       "      <td>0.007207</td>\n",
       "      <td>0.000895</td>\n",
       "      <td>0.000006</td>\n",
       "      <td>0.001513</td>\n",
       "      <td>0.001151</td>\n",
       "      <td>...</td>\n",
       "      <td>3.725169e-08</td>\n",
       "      <td>0.000010</td>\n",
       "      <td>0.000007</td>\n",
       "      <td>-0.000001</td>\n",
       "      <td>0.002557</td>\n",
       "      <td>0.001945</td>\n",
       "      <td>-0.000364</td>\n",
       "      <td>0.001479</td>\n",
       "      <td>-0.000277</td>\n",
       "      <td>0.000052</td>\n",
       "    </tr>\n",
       "    <tr>\n",
       "      <th>4</th>\n",
       "      <td>1.0</td>\n",
       "      <td>0.025051</td>\n",
       "      <td>0.020446</td>\n",
       "      <td>-0.039493</td>\n",
       "      <td>-0.041180</td>\n",
       "      <td>0.007207</td>\n",
       "      <td>0.000628</td>\n",
       "      <td>0.000512</td>\n",
       "      <td>-0.000989</td>\n",
       "      <td>-0.001032</td>\n",
       "      <td>...</td>\n",
       "      <td>4.180506e-04</td>\n",
       "      <td>-0.000807</td>\n",
       "      <td>-0.000842</td>\n",
       "      <td>0.000147</td>\n",
       "      <td>0.001560</td>\n",
       "      <td>0.001626</td>\n",
       "      <td>-0.000285</td>\n",
       "      <td>0.001696</td>\n",
       "      <td>-0.000297</td>\n",
       "      <td>0.000052</td>\n",
       "    </tr>\n",
       "  </tbody>\n",
       "</table>\n",
       "<p>5 rows × 21 columns</p>\n",
       "</div>"
      ],
      "text/plain": [
       "    0         1         2         3         4         5         6         7   \\\n",
       "0  1.0  0.004572 -0.011201  0.034309  0.016305 -0.001078  0.000021 -0.000051   \n",
       "1  1.0 -0.065486 -0.007073 -0.039493 -0.003304  0.007207  0.004288  0.000463   \n",
       "2  1.0 -0.030996  0.008063 -0.002592  0.009436  0.011349  0.000961 -0.000250   \n",
       "3  1.0 -0.029918 -0.000193 -0.050564 -0.038459  0.007207  0.000895  0.000006   \n",
       "4  1.0  0.025051  0.020446 -0.039493 -0.041180  0.007207  0.000628  0.000512   \n",
       "\n",
       "         8         9   ...            11        12        13        14  \\\n",
       "0  0.000157  0.000075  ...  1.254541e-04 -0.000384 -0.000183  0.000012   \n",
       "1  0.002586  0.000216  ...  5.002409e-05  0.000279  0.000023 -0.000051   \n",
       "2  0.000080 -0.000292  ...  6.500730e-05 -0.000021  0.000076  0.000092   \n",
       "3  0.001513  0.001151  ...  3.725169e-08  0.000010  0.000007 -0.000001   \n",
       "4 -0.000989 -0.001032  ...  4.180506e-04 -0.000807 -0.000842  0.000147   \n",
       "\n",
       "         15        16        17        18        19        20  \n",
       "0  0.001177  0.000559 -0.000037  0.000266 -0.000018  0.000001  \n",
       "1  0.001560  0.000130 -0.000285  0.000011 -0.000024  0.000052  \n",
       "2  0.000007 -0.000024 -0.000029  0.000089  0.000107  0.000129  \n",
       "3  0.002557  0.001945 -0.000364  0.001479 -0.000277  0.000052  \n",
       "4  0.001560  0.001626 -0.000285  0.001696 -0.000297  0.000052  \n",
       "\n",
       "[5 rows x 21 columns]"
      ]
     },
     "execution_count": 6,
     "metadata": {},
     "output_type": "execute_result"
    }
   ],
   "source": [
    "from LinearRegression import Polynomial\n",
    "\n",
    "# Pravi se objekat klase Polynomial i matrice sa novim kolonama tj. prediktorima\n",
    "model_poly = Polynomial()\n",
    "X_train_new = model_poly.make_poly(X_train, degree = 2)\n",
    "X_test_new = model_poly.make_poly(X_test, degree = 2)\n",
    "\n",
    "# Racuna se optimalno teta i radi predikcija \n",
    "model_poly.fit(X_train_new, y_train)\n",
    "pred_poly = model_poly.predict(X_test_new)\n",
    "\n",
    "# Optimalno teta \n",
    "opt_theta = model_poly.get_theta()\n",
    "print('Optimalno teta je:', opt_theta)\n",
    "\n",
    "# Izgled nove tabele nakon dodavanja prediktora za trenirajuci skup\n",
    "X_train_new_df = pd.DataFrame(X_train_new)\n",
    "X_train_new_df.head()"
   ]
  },
  {
   "cell_type": "code",
   "execution_count": 7,
   "metadata": {},
   "outputs": [
    {
     "data": {
      "text/html": [
       "<div>\n",
       "<style scoped>\n",
       "    .dataframe tbody tr th:only-of-type {\n",
       "        vertical-align: middle;\n",
       "    }\n",
       "\n",
       "    .dataframe tbody tr th {\n",
       "        vertical-align: top;\n",
       "    }\n",
       "\n",
       "    .dataframe thead th {\n",
       "        text-align: right;\n",
       "    }\n",
       "</style>\n",
       "<table border=\"1\" class=\"dataframe\">\n",
       "  <thead>\n",
       "    <tr style=\"text-align: right;\">\n",
       "      <th></th>\n",
       "      <th>0</th>\n",
       "      <th>1</th>\n",
       "      <th>2</th>\n",
       "      <th>3</th>\n",
       "      <th>4</th>\n",
       "      <th>5</th>\n",
       "    </tr>\n",
       "  </thead>\n",
       "  <tbody>\n",
       "    <tr>\n",
       "      <th>0</th>\n",
       "      <td>1.0</td>\n",
       "      <td>0.004572</td>\n",
       "      <td>-0.011201</td>\n",
       "      <td>0.034309</td>\n",
       "      <td>0.016305</td>\n",
       "      <td>-0.001078</td>\n",
       "    </tr>\n",
       "    <tr>\n",
       "      <th>1</th>\n",
       "      <td>1.0</td>\n",
       "      <td>-0.065486</td>\n",
       "      <td>-0.007073</td>\n",
       "      <td>-0.039493</td>\n",
       "      <td>-0.003304</td>\n",
       "      <td>0.007207</td>\n",
       "    </tr>\n",
       "    <tr>\n",
       "      <th>2</th>\n",
       "      <td>1.0</td>\n",
       "      <td>-0.030996</td>\n",
       "      <td>0.008063</td>\n",
       "      <td>-0.002592</td>\n",
       "      <td>0.009436</td>\n",
       "      <td>0.011349</td>\n",
       "    </tr>\n",
       "    <tr>\n",
       "      <th>3</th>\n",
       "      <td>1.0</td>\n",
       "      <td>-0.029918</td>\n",
       "      <td>-0.000193</td>\n",
       "      <td>-0.050564</td>\n",
       "      <td>-0.038459</td>\n",
       "      <td>0.007207</td>\n",
       "    </tr>\n",
       "    <tr>\n",
       "      <th>4</th>\n",
       "      <td>1.0</td>\n",
       "      <td>0.025051</td>\n",
       "      <td>0.020446</td>\n",
       "      <td>-0.039493</td>\n",
       "      <td>-0.041180</td>\n",
       "      <td>0.007207</td>\n",
       "    </tr>\n",
       "  </tbody>\n",
       "</table>\n",
       "</div>"
      ],
      "text/plain": [
       "     0         1         2         3         4         5\n",
       "0  1.0  0.004572 -0.011201  0.034309  0.016305 -0.001078\n",
       "1  1.0 -0.065486 -0.007073 -0.039493 -0.003304  0.007207\n",
       "2  1.0 -0.030996  0.008063 -0.002592  0.009436  0.011349\n",
       "3  1.0 -0.029918 -0.000193 -0.050564 -0.038459  0.007207\n",
       "4  1.0  0.025051  0.020446 -0.039493 -0.041180  0.007207"
      ]
     },
     "execution_count": 7,
     "metadata": {},
     "output_type": "execute_result"
    }
   ],
   "source": [
    "# Provere radi, mogu se uporediti tebele trenirajuceg skupa pre i posle dodavanja novih obelezja\n",
    "X_train_df = pd.DataFrame(X_train)\n",
    "X_train_df.head()"
   ]
  },
  {
   "cell_type": "markdown",
   "metadata": {},
   "source": [
    "Koji stepen polinomijalne funkcije daje najbolje rezultate moze se videti na validacionoj krivi. Uporedjivanjem trenirajuce i validacione krive mozemo da uocimo za koji stepen dolazi do preobucavanja. Koristeci hold-out validaciju za nekoliko razlicitih vrednosti stepena polinomijalne funkcije."
   ]
  },
  {
   "cell_type": "code",
   "execution_count": 8,
   "metadata": {},
   "outputs": [
    {
     "name": "stdout",
     "output_type": "stream",
     "text": [
      "Najbolji stepen je:  1\n"
     ]
    },
    {
     "data": {
      "text/plain": [
       "<matplotlib.legend.Legend at 0x2a1d7ab1d88>"
      ]
     },
     "execution_count": 8,
     "metadata": {},
     "output_type": "execute_result"
    },
    {
     "data": {
      "image/png": "[encoded data removed]",
      "text/plain": [
       "<Figure size 1296x288 with 2 Axes>"
      ]
     },
     "metadata": {
      "needs_background": "light"
     },
     "output_type": "display_data"
    }
   ],
   "source": [
    "from LinearRegression import MSE_metric \n",
    "\n",
    "# Pravi se objekat klase Polynomial i definise niz vrednosti koje stepen uzima\n",
    "model_poly = Polynomial()\n",
    "degrees = np.arange(1,10)\n",
    "\n",
    "score_train = []\n",
    "score_val = []\n",
    "\n",
    "for degree in degrees:\n",
    "    X_new_train = model_poly.make_poly(X_train, degree)\n",
    "    X_new_val = model_poly.make_poly(X_val, degree)\n",
    "    \n",
    "    model_poly.fit(X_new_train, y_train)\n",
    "    \n",
    "    pred_train = model_poly.predict(X_new_train)\n",
    "    score_train.append(-MSE_metric(pred_train, y_train))\n",
    "    \n",
    "    pred_val = model_poly.predict(X_new_val)\n",
    "    score_val.append(-MSE_metric(pred_val, y_val))\n",
    "\n",
    "# Naci stepen za koje je validaciona kriva maksimalna\n",
    "max_val = max(score_val)\n",
    "best_degree =  score_val.index(max_val)\n",
    "print('Najbolji stepen je: ', degrees[best_degree])\n",
    "\n",
    "# Plotovanje trenirajuce i validacione krive\n",
    "plt.figure()\n",
    "%matplotlib inline\n",
    "\n",
    "plt.subplots(figsize=(18,4 ))\n",
    "plt.subplot(1,2,1)\n",
    "plt.plot(degrees[0:3], score_train[0:3])\n",
    "plt.plot(degrees[0:3], score_val[0:3])\n",
    "plt.xlabel('Stepen')\n",
    "plt.ylabel('Skor')\n",
    "plt.grid()\n",
    "plt.legend(['Trenirajuca kriva','Validaciona kriva'])\n",
    "\n",
    "plt.subplot(1,2,2)\n",
    "plt.plot(degrees[0:6], score_train[0:6])\n",
    "plt.plot(degrees[0:6], score_val[0:6])\n",
    "plt.xlabel('Stepen')\n",
    "plt.ylabel('Skor')\n",
    "plt.grid()\n",
    "plt.legend(['Trenirajuca kriva','Validaciona kriva'])"
   ]
  },
  {
   "cell_type": "markdown",
   "metadata": {},
   "source": [
    "# Ridge Regresija"
   ]
  },
  {
   "cell_type": "markdown",
   "metadata": {},
   "source": [
    "Obzirom da se sa povecanjem broja prediktora raste i verovatnoca da ce doci do preobucavanja, kao zastita od ove pojave uvodi se regularizacioni deo unutar kriterijumske funkcije. Parametar $\\lambda$ jeste regularizacioni faktor koji utice na to koliko ce se suzbiti preobucavanje. Kada je $\\lambda$ jednako nuli tada ne postoji regularizacija, a kada je vrednost ovog parametra veca onda je i regularizacija jaca. Kod Ridge regresije ovaj regularizacioni clan je suma kvadrata svih vrednosti $\\theta$ osim prvog, odnosno nultog.\n",
    "\n",
    "### <center> $J(\\theta) = \\frac{1}{m} \\sum_{i=1}^m (y$<sup>$(i)$</sup>$ - h(x$<sup>(i)</sup>$))$<sup>$2$</sup>$ + \\frac{\\lambda}{m} \\sum_{j=1}^n \\theta $<sub>$j$</sub><sup>$2$</sup> </center> \n",
    "\n",
    "Obzirom da je ova kriterijumska funkcija diferencijabilna po parametru $\\theta$, optimalno $\\theta$<sup>*</sup> se moze zapisati u analitickom obliku kao u jednacini ispod. Nakon odredjivanja optimalnog teta moze da se uraditi predikcija na isti nacin kao sto je uradjeno kod prethodnih linearnih regresija.\n",
    "\n",
    "###  <center> $\\theta$<sup>*</sup> $= (X$<sup>$T$</sup>$X + \\lambda I)$<sup>$-1$</sup>$X$<sup>$T$</sup>$y$ </center>\n",
    "\n"
   ]
  },
  {
   "cell_type": "code",
   "execution_count": 9,
   "metadata": {},
   "outputs": [
    {
     "name": "stdout",
     "output_type": "stream",
     "text": [
      "Optimalno teta je: [152.71455099 631.55340758 -85.52641011  85.25469494 590.07135231\n",
      " 133.1403286 ]\n"
     ]
    }
   ],
   "source": [
    "from LinearRegression import Ridge\n",
    "\n",
    "# Pravi se objekat klase Ridge, racunaju vrednosti teta i radi predikcija nad test skupom\n",
    "model_ridge = Ridge()\n",
    "model_ridge.fit(X_train, y_train, lam = 0.3)\n",
    "pred_ridge = model_ridge.predict(X_test)\n",
    "\n",
    "# Optimalno teta \n",
    "opt_theta = model.get_theta()\n",
    "print('Optimalno teta je:', opt_theta)"
   ]
  },
  {
   "cell_type": "markdown",
   "metadata": {},
   "source": [
    "U slucaju da je bolje rezultate moguce dobiti sa vecim stepenom polinomijalne funkcije i nekom vrednoscu $\\lambda$ koja moze da suzbije preobucavanje, trazice se par parametara (stepen, $\\lambda$) koji ce dati najbolje rezultate. U slucaju da je vec izabrana vrednost stepena 2, jer se pocevsi od tog trenutka primecuje preobucavanje, potrebno je odrediti srednju kvadratnu gresku ili skor za nekoliko razlicitih vrednosti $\\lambda$."
   ]
  },
  {
   "cell_type": "code",
   "execution_count": 10,
   "metadata": {},
   "outputs": [
    {
     "name": "stdout",
     "output_type": "stream",
     "text": [
      "Najbolje lambda je:  0.01\n"
     ]
    },
    {
     "data": {
      "text/plain": [
       "<matplotlib.legend.Legend at 0x2a1d793eb48>"
      ]
     },
     "execution_count": 10,
     "metadata": {},
     "output_type": "execute_result"
    },
    {
     "data": {
      "image/png": "[encoded data removed]",
      "text/plain": [
       "<Figure size 1296x288 with 2 Axes>"
      ]
     },
     "metadata": {
      "needs_background": "light"
     },
     "output_type": "display_data"
    }
   ],
   "source": [
    "# Pravi se objekat klase Ridge\n",
    "model_ridge = Ridge()\n",
    "\n",
    "# Formiraju se nove matrice za izabrani stepen polinoma\n",
    "X_new_train = model_poly.make_poly(X_train, degree = 2)\n",
    "X_new_val = model_poly.make_poly(X_val, degree = 2)\n",
    "\n",
    "# Lista vrednosti lambda\n",
    "lambdas = [0, 0.001, 0.005, 0.01, 0.05, 0.1, 0.5, 1, 5, 10]\n",
    "\n",
    "# Prazne liste za skladistenje skorova\n",
    "score_train = []\n",
    "score_val = []\n",
    "\n",
    "for l in lambdas:\n",
    "    model_ridge.fit(X_new_train, y_train, lam = l)\n",
    "    \n",
    "    pred_train = model_ridge.predict(X_new_train)\n",
    "    score_train.append(-MSE_metric(pred_train, y_train))\n",
    "    \n",
    "    pred_val = model_ridge.predict(X_new_val)\n",
    "    score_val.append(-MSE_metric(pred_val, y_val))\n",
    "    \n",
    "\n",
    "# Naci stepen za koje je validaciona kriva maksimalna\n",
    "max_val = max(score_val)\n",
    "best_lambda =  score_val.index(max_val)\n",
    "print('Najbolje lambda je: ', lambdas[best_lambda])\n",
    "\n",
    "# Plotovanje trenirajuce i validacione krive\n",
    "plt.figure()\n",
    "%matplotlib inline\n",
    "\n",
    "plt.subplots(figsize=(18,4 ))\n",
    "plt.subplot(1,2,1)\n",
    "plt.plot(lambdas, score_train)\n",
    "plt.plot(lambdas, score_val)\n",
    "plt.xlabel('Lambda')\n",
    "plt.ylabel('Skor')\n",
    "plt.grid()\n",
    "plt.legend(['Trenirajuca kriva','Validaciona kriva'])\n",
    "\n",
    "plt.subplot(1,2,2)\n",
    "plt.plot(lambdas[0:7], score_train[0:7])\n",
    "plt.plot(lambdas[0:7], score_val[0:7])\n",
    "plt.xlabel('Lambda')\n",
    "plt.ylabel('Skor')\n",
    "plt.grid()\n",
    "plt.legend(['Trenirajuca kriva','Validaciona kriva'])"
   ]
  },
  {
   "cell_type": "markdown",
   "metadata": {},
   "source": [
    "Vrednosti ova dva parametra za koje je skor najveci se takodje moze naci tako sto se skor racuna za sve varijante ova ih parametara. "
   ]
  },
  {
   "cell_type": "code",
   "execution_count": 11,
   "metadata": {},
   "outputs": [
    {
     "name": "stdout",
     "output_type": "stream",
     "text": [
      "Najbolji par (stepen, lambda) je: (2, 0.01)\n"
     ]
    }
   ],
   "source": [
    "# Pravi se objekat klase Ridge\n",
    "model_ridge = Ridge()\n",
    "\n",
    "# Liste vrednosti za stepen i lambdu\n",
    "degrees = np.arange(1,10)\n",
    "lambdas = [0, 0.001, 0.005, 0.01, 0.05, 0.1, 0.5, 1, 5, 10]\n",
    "pairs = []\n",
    "score_val = []\n",
    "\n",
    "for deg in degrees:\n",
    "    X_new_train = model_poly.make_poly(X_train, deg)\n",
    "    X_new_val = model_poly.make_poly(X_val, deg)   \n",
    "    \n",
    "    for l in lambdas:\n",
    "        model_ridge.fit(X_new_train, y_train, lam = l)\n",
    "        pred_val = model_ridge.predict(X_new_val)\n",
    "        score_val.append(-MSE_metric(pred_val, y_val))\n",
    "        pairs.append((deg,l))\n",
    "\n",
    "max_val = max(score_val)\n",
    "best_pair_id = score_val.index(max_val)\n",
    "best_pair = pairs[best_pair_id]\n",
    "print('Najbolji par (stepen, lambda) je:', best_pair)"
   ]
  },
  {
   "cell_type": "markdown",
   "metadata": {},
   "source": [
    "## LASSO Regresija"
   ]
  },
  {
   "cell_type": "markdown",
   "metadata": {},
   "source": [
    "Kriterijumska funkcija ove regresije se, u odnosu na kriterijumsku funkciju Ridge regresije, razlikuje samo po regularizacionom delu koji sada predstavlja sumu apsolutnih vrednosti svih vrednosti $\\theta$ osim $\\theta_{0}$. Medjutim, optimalno \\theta se ne moze dobiti iz analitickog oblika, vec je potrebno koristiti neku iterativnu metodu za optimizaciju. Ovde se koristi modifikacija $Powell$-e metode tj. funkcija prikazana ispod. \n",
    "##### <center> scipy.optimize.fmin_powell(func, x0, args = ()) </center> \n",
    "Parametar **func** predstavlja kriterijumsku funkciju, **x0** je inicijalan vektor sa vrednostima $\\theta$ koje ce se na dalje i menjati sve dok kriterijumska funkcija ne bude zadovoljavajuca. Parametar **args** sadrzi dodatne argumente koje ce koristiti kriterijumska funkcija. Nakon pronalaska $\\theta$, sledi predikcija koja se radi na isti nacin kao kod prethodnih regresija.\n",
    "### <center> $J(\\theta) = \\frac{1}{m} \\sum_{i=1}^m (y$<sup>$(i)$</sup>$ - h(x$<sup>(i)</sup>$))$<sup>$2$</sup>$ + \\frac{\\lambda}{m} \\sum_{j=1}^n \\mid \\theta $<sub>$j$</sub> $\\mid$ </center>"
   ]
  },
  {
   "cell_type": "code",
   "execution_count": 12,
   "metadata": {},
   "outputs": [
    {
     "name": "stdout",
     "output_type": "stream",
     "text": [
      "Optimalno teta je: [152.71455099 631.55340758 -85.52641011  85.25469494 590.07135231\n",
      " 133.1403286 ]\n"
     ]
    }
   ],
   "source": [
    "from LinearRegression import Lasso\n",
    "\n",
    "# Pravi se objekat klase Linear_Regression, racunaju vrednosti teta i radi predikcija nad test skupom\n",
    "model_lasso = Lasso()\n",
    "model_lasso.fit(X_train, y_train, lam = 0.3)\n",
    "pred_lasso = model_lasso.predict(X_test)\n",
    "\n",
    "# Optimalno teta \n",
    "opt_theta = model.get_theta()\n",
    "print('Optimalno teta je:', opt_theta)"
   ]
  },
  {
   "cell_type": "code",
   "execution_count": 13,
   "metadata": {},
   "outputs": [
    {
     "name": "stdout",
     "output_type": "stream",
     "text": [
      "Najbolje lambda je:  5\n"
     ]
    },
    {
     "data": {
      "text/plain": [
       "<matplotlib.legend.Legend at 0x2a1d7b49308>"
      ]
     },
     "execution_count": 13,
     "metadata": {},
     "output_type": "execute_result"
    },
    {
     "data": {
      "image/png": "[encoded data removed]",
      "text/plain": [
       "<Figure size 1296x288 with 2 Axes>"
      ]
     },
     "metadata": {
      "needs_background": "light"
     },
     "output_type": "display_data"
    }
   ],
   "source": [
    "# Pravi se objekat klase Ridge\n",
    "model_lasso = Lasso()\n",
    "\n",
    "# Formiraju se nove matrice za izabrani stepen polinoma\n",
    "X_new_train = model_poly.make_poly(X_train, degree = 2)\n",
    "X_new_val = model_poly.make_poly(X_val, degree = 2)\n",
    "\n",
    "# Lista vrednosti lambda\n",
    "lambdas = [0, 0.001, 0.005, 0.01, 0.05, 0.1, 0.5, 1, 5, 10, 20, 30]\n",
    "\n",
    "# Prazne liste za skladistenje skorova\n",
    "score_train = []\n",
    "score_val = []\n",
    "\n",
    "for l in lambdas:\n",
    "    model_lasso.fit(X_new_train, y_train, lam = l)\n",
    "    \n",
    "    pred_train = model_lasso.predict(X_new_train)\n",
    "    score_train.append(-MSE_metric(pred_train, y_train))\n",
    "    \n",
    "    pred_val = model_lasso.predict(X_new_val)\n",
    "    score_val.append(-MSE_metric(pred_val, y_val))\n",
    "    \n",
    "\n",
    "# Naci stepen za koje je validaciona kriva maksimalna\n",
    "max_val = max(score_val)\n",
    "best_lambda =  score_val.index(max_val)\n",
    "print('Najbolje lambda je: ', lambdas[best_lambda])\n",
    "\n",
    "# Plotovanje trenirajuce i validacione krive\n",
    "plt.figure()\n",
    "%matplotlib inline\n",
    "\n",
    "plt.subplots(figsize=(18,4 ))\n",
    "plt.subplot(1,2,1)\n",
    "plt.plot(lambdas, score_train)\n",
    "plt.plot(lambdas, score_val)\n",
    "plt.xlabel('Lambda')\n",
    "plt.ylabel('Skor')\n",
    "plt.grid()\n",
    "plt.legend(['Trenirajuca kriva','Validaciona kriva'])\n",
    "\n",
    "plt.subplot(1,2,2)\n",
    "plt.plot(lambdas[0:8], score_train[0:8])\n",
    "plt.plot(lambdas[0:8], score_val[0:8])\n",
    "plt.xlabel('Lambda')\n",
    "plt.ylabel('Skor')\n",
    "plt.grid()\n",
    "plt.legend(['Trenirajuca kriva','Validaciona kriva'])"
   ]
  },
  {
   "cell_type": "code",
   "execution_count": 14,
   "metadata": {},
   "outputs": [
    {
     "name": "stdout",
     "output_type": "stream",
     "text": [
      "Najbolji par (stepen, lambda) za Lasso regresiju je: (2, 5)\n"
     ]
    }
   ],
   "source": [
    "# Pravi se objekat klase Lasso\n",
    "model_lasso = Lasso()\n",
    "\n",
    "# Liste vrednosti za stepen i lambdu\n",
    "degrees = np.arange(1,5)\n",
    "lambdas = [0, 0.001, 0.005, 0.01, 0.05, 0.1, 0.5, 1, 5, 10]\n",
    "pairs = []\n",
    "score_val = []\n",
    "\n",
    "for deg in degrees:\n",
    "    X_new_train = model_poly.make_poly(X_train, deg)\n",
    "    X_new_val = model_poly.make_poly(X_val, deg)   \n",
    "    \n",
    "    for l in lambdas:\n",
    "        model_lasso.fit(X_new_train, y_train, lam = l)\n",
    "        pred_val = model_lasso.predict(X_new_val)\n",
    "        score_val.append(-MSE_metric(pred_val, y_val))\n",
    "        pairs.append((deg,l))\n",
    "\n",
    "max_val = max(score_val)\n",
    "best_pair_lasso_id = score_val.index(max_val)\n",
    "best_pair_lasso = pairs[best_pair_lasso_id]\n",
    "print('Najbolji par (stepen, lambda) za Lasso regresiju je:', best_pair_lasso)"
   ]
  },
  {
   "cell_type": "markdown",
   "metadata": {},
   "source": [
    "## Lokalno Ponderisana Regresija"
   ]
  },
  {
   "cell_type": "markdown",
   "metadata": {},
   "source": [
    "Kod prethodnih regresija, optimalno $\\theta$ se nalazilo tako sto su se njegove vrednosti prilagodjavale podacima iz trening skupa, pri cemu su svi podaci imali isti znacaj tj. tezinu. Kod lokalno ponderisane linearne regresije se daju drugacije tezine podacima iz trening skupa. U zavisnosti od udaljenosti podataka trening skupa od jednog merenja iz test skupa, tezine ce biti vece ili manje. Ove tezine se koriste za fitovanje pri cemu postoje razliciti $\\theta$ vektori tj. ne postoji jedan koji ce se koristiti tokom predikcije. Odgovarajuci podatak iz test skupa ce imati odgovarajuci vektor $\\theta$. "
   ]
  },
  {
   "cell_type": "code",
   "execution_count": 15,
   "metadata": {},
   "outputs": [
    {
     "name": "stdout",
     "output_type": "stream",
     "text": [
      "Optimalno teta je: [array([153.05539218, 692.24728237, -41.72381562,   9.83700349,\n",
      "       586.36204833, 100.62062672]), array([151.4836603 , 576.62588255, -94.76679354,  88.62089589,\n",
      "       697.89042266,  25.6211577 ]), array([ 152.23727752,  614.36428832, -126.48453915,   47.3839094 ,\n",
      "        707.65216291,  115.73114042]), array([150.98641052, 540.11525326, -73.00852278, 106.73938512,\n",
      "       668.53838149,  17.12098647]), array([151.76040997, 573.261605  , -95.26196124, 122.93537855,\n",
      "       658.35246353,  70.15072595])]\n"
     ]
    }
   ],
   "source": [
    "from LinearRegression import Locally_Weighted\n",
    "\n",
    "# Pravi se objekat klase Locally_Weighted i racunaju se matrice za svaki test primer\n",
    "model_w = Locally_Weighted()\n",
    "model_w.weight_matrices(X_train, X_test, tau = 0.1)\n",
    "\n",
    "# Obucavanje na trenirajucem skupu i predikcija za test skup\n",
    "model_w.fit(X_train, y_train)\n",
    "pred_w = model_w.predict(X_test)\n",
    "\n",
    "# Optimalno teta je lista teta vektora, pri cemu je svako teta optimalno za odredjeni test primer\n",
    "opt_theta = model_w.get_theta()\n",
    "print('Optimalno teta je:', opt_theta[0:5])"
   ]
  },
  {
   "cell_type": "markdown",
   "metadata": {},
   "source": [
    "Da bi se odredilo za koju vrednost parametra $\\tau$ se dobija najbolji skor, potrebno je da se uradi hold-out validacija, gde ce se za razlicite vrednosti parametra racunati skor i na kraju uzeti ona vrednost za koju je taj skor najveci. Koristi se hipoteza prvog stepena i podaci sa pocetka, pre dodavanje novih prediktora. Obzirom da se radi hold-out validacija, poredice se trenirajuca i validaciona kriva i odrediti najbolje $\\tau$. Ovde dve krive se dobijaju tako sto se pojedinacno racunaju tezinske matrice i za trening i za validacioni skup."
   ]
  },
  {
   "cell_type": "code",
   "execution_count": 16,
   "metadata": {},
   "outputs": [
    {
     "name": "stdout",
     "output_type": "stream",
     "text": [
      "Najbolje tau je:  0.3\n"
     ]
    },
    {
     "data": {
      "text/plain": [
       "<matplotlib.legend.Legend at 0x2a1d7c884c8>"
      ]
     },
     "execution_count": 16,
     "metadata": {},
     "output_type": "execute_result"
    },
    {
     "data": {
      "image/png": "[encoded data removed]",
      "text/plain": [
       "<Figure size 1296x288 with 2 Axes>"
      ]
     },
     "metadata": {
      "needs_background": "light"
     },
     "output_type": "display_data"
    }
   ],
   "source": [
    "# Pravi se objekat klase Locally_Weighted \n",
    "model_w = Locally_Weighted()\n",
    "\n",
    "# Lista vrednosti tau i dve prazne liste za dodavanje skorova na trening i validacionom skupu\n",
    "taus = [0.03, 0.05, 0.1, 0.3, 0.5, 1, 3, 5, 10, 30]\n",
    "score_train = []\n",
    "score_val = []\n",
    "\n",
    "for t in taus:\n",
    "    model_w.weight_matrices(X_train, X_train, t)\n",
    "    model_w.fit(X_train, y_train)\n",
    "    \n",
    "    pred_w_train = model_w.predict(X_train)\n",
    "    score_train.append(-MSE_metric(pred_w_train, y_train))\n",
    "\n",
    "    model_w.weight_matrices(X_train, X_val, t)\n",
    "    model_w.fit(X_train, y_train)\n",
    "    \n",
    "    pred_w_val = model_w.predict(X_val)\n",
    "    score_val.append(-MSE_metric(pred_w_val, y_val))\n",
    "    \n",
    "# Naci tau za koje je validaciona kriva maksimalna\n",
    "max_val = max(score_val)\n",
    "best_tau =  score_val.index(max_val)\n",
    "print('Najbolje tau je: ', taus[best_tau])\n",
    "\n",
    "# Plotovanje trenirajuce i validacione krive\n",
    "plt.figure()\n",
    "%matplotlib inline\n",
    "\n",
    "plt.subplots(figsize=(18,4 ))\n",
    "plt.subplot(1,2,1)\n",
    "plt.plot(taus, score_train)\n",
    "plt.plot(taus, score_val)\n",
    "plt.xlabel('Tau')\n",
    "plt.ylabel('Skor')\n",
    "plt.grid()\n",
    "plt.legend(['Trenirajuca kriva','Validaciona kriva'])\n",
    "\n",
    "plt.subplot(1,2,2)\n",
    "plt.plot(taus[0:4], score_train[0:4])\n",
    "plt.plot(taus[0:4], score_val[0:4])\n",
    "plt.xlabel('Tau')\n",
    "plt.ylabel('Skor')\n",
    "plt.grid()\n",
    "plt.legend(['Trenirajuca kriva','Validaciona kriva'])"
   ]
  },
  {
   "cell_type": "markdown",
   "metadata": {},
   "source": [
    "Slika iznad pokazuje kako parametar $\\tau$ utice na skor. Ukoliko je njegova vrednost mala tada samo veoma bliska merenja imaju uticaj na jedno merenje, te se prava hipoteze moze provuci kroz skoro sva merenje tj. doci ce do preobucavanja. Sa druge strane, ako je vrednost parametra velika, tada i dosta (prostorno) daleka merenja uticu na dato merenje i dolazi do podobucavanja.\n",
    "Ukoliko se tezinske matrice racunaju, trenira i radi predikcija nad trening skupom, onda se lepo primecuje da je za malo $\\tau$ itekako prisutno preobucavanje, odnosno skor je veliki. Sa povecanjem vrednosti $\\tau$ skor se smanjuje, dok se skor validacione krive povecava.\n"
   ]
  },
  {
   "cell_type": "markdown",
   "metadata": {},
   "source": [
    "## Poredjenje rezultata svi linearnih regresija"
   ]
  },
  {
   "cell_type": "code",
   "execution_count": 17,
   "metadata": {},
   "outputs": [],
   "source": [
    "# Rezultat obicne linearne regresije\n",
    "score_lin = MSE_metric(pred, y_test)\n",
    "\n",
    "# Rezultat polinomijalne linearne regresije za najbolji stepen\n",
    "X_new_train = model_poly.make_poly(X_train, degrees[best_degree])\n",
    "X_new_test = model_poly.make_poly(X_test, degrees[best_degree])\n",
    "\n",
    "model_poly.fit(X_new_train, y_train)\n",
    "pred_poly = model_poly.predict(X_new_test)\n",
    "\n",
    "score_lin_poly = MSE_metric(pred_poly, y_test)\n",
    "\n",
    "# Rezultat Ridge linearne regresije za najbolji stepen i lambdu\n",
    "X_new_train = model_poly.make_poly(X_train, best_pair[0])\n",
    "X_new_test = model_poly.make_poly(X_test, best_pair[0])\n",
    "\n",
    "model_ridge.fit(X_new_train, y_train, lam = best_pair[1])\n",
    "pred_ridge = model_ridge.predict(X_new_test)\n",
    "                \n",
    "score_lin_ridge = MSE_metric(pred_ridge, y_test)\n",
    "\n",
    "# Rezultat Lasso linearne regresije za najbolji stepen i lambdu\n",
    "X_new_train = model_poly.make_poly(X_train, best_pair_lasso[0])\n",
    "X_new_test = model_poly.make_poly(X_test, best_pair_lasso[0])\n",
    "\n",
    "model_lasso.fit(X_new_train, y_train, lam = best_pair_lasso[1])\n",
    "pred_lasso = model_lasso.predict(X_new_test)\n",
    "                \n",
    "score_lin_lasso = MSE_metric(pred_lasso, y_test)\n",
    "\n",
    "# Rezultat lokalno ponderisane linearne regresije za najbolje tau\n",
    "model_w.weight_matrices(X_train, X_test, taus[best_tau])\n",
    "model_w.fit(X_train, y_train)\n",
    "\n",
    "pred_w = model_w.predict(X_test)\n",
    "score_lin_lw = MSE_metric(pred_w, y_test)"
   ]
  },
  {
   "cell_type": "code",
   "execution_count": 19,
   "metadata": {},
   "outputs": [
    {
     "data": {
      "text/html": [
       "<div>\n",
       "<style scoped>\n",
       "    .dataframe tbody tr th:only-of-type {\n",
       "        vertical-align: middle;\n",
       "    }\n",
       "\n",
       "    .dataframe tbody tr th {\n",
       "        vertical-align: top;\n",
       "    }\n",
       "\n",
       "    .dataframe thead th {\n",
       "        text-align: right;\n",
       "    }\n",
       "</style>\n",
       "<table border=\"1\" class=\"dataframe\">\n",
       "  <thead>\n",
       "    <tr style=\"text-align: right;\">\n",
       "      <th></th>\n",
       "      <th>0</th>\n",
       "    </tr>\n",
       "  </thead>\n",
       "  <tbody>\n",
       "    <tr>\n",
       "      <th>Linear</th>\n",
       "      <td>2814.452194</td>\n",
       "    </tr>\n",
       "    <tr>\n",
       "      <th>Best Polynomial</th>\n",
       "      <td>2814.452194</td>\n",
       "    </tr>\n",
       "    <tr>\n",
       "      <th>Best Ridge</th>\n",
       "      <td>2797.221926</td>\n",
       "    </tr>\n",
       "    <tr>\n",
       "      <th>Best LASSO</th>\n",
       "      <td>2770.870721</td>\n",
       "    </tr>\n",
       "    <tr>\n",
       "      <th>Best Locally Weighted</th>\n",
       "      <td>2793.616994</td>\n",
       "    </tr>\n",
       "  </tbody>\n",
       "</table>\n",
       "</div>"
      ],
      "text/plain": [
       "                                 0\n",
       "Linear                 2814.452194\n",
       "Best Polynomial        2814.452194\n",
       "Best Ridge             2797.221926\n",
       "Best LASSO             2770.870721\n",
       "Best Locally Weighted  2793.616994"
      ]
     },
     "execution_count": 19,
     "metadata": {},
     "output_type": "execute_result"
    }
   ],
   "source": [
    "# Pravljenje DataFrame-a zbog lepseg prikaza\n",
    "\n",
    "columns = ['Linear', 'Best Polynomial', 'Best Ridge', 'Best LASSO', 'Best Locally Weighted']\n",
    "data = [score_lin, score_lin_poly, score_lin_ridge, score_lin_lasso, score_lin_lw]\n",
    "df = pd.DataFrame(data, columns)\n",
    "df.head()"
   ]
  },
  {
   "cell_type": "code",
   "execution_count": null,
   "metadata": {},
   "outputs": [],
   "source": []
  }
 ],
 "metadata": {
  "kernelspec": {
   "display_name": "Python 3",
   "language": "python",
   "name": "python3"
  },
  "language_info": {
   "codemirror_mode": {
    "name": "ipython",
    "version": 3
   },
   "file_extension": ".py",
   "mimetype": "text/x-python",
   "name": "python",
   "nbconvert_exporter": "python",
   "pygments_lexer": "ipython3",
   "version": "3.7.6"
  }
 },
 "nbformat": 4,
 "nbformat_minor": 4
}
